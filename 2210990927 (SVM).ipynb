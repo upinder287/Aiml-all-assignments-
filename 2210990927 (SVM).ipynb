{
 "cells": [
  {
   "cell_type": "markdown",
   "id": "78c12a7f",
   "metadata": {},
   "source": [
    "# 1. Introduction to SVM \n",
    "\n",
    "Used SVM to build and train a model using human cell records, and classify cells to whether the samples are benign (mild state) or malignant (evil state).\n",
    "\n",
    "SVM works by mapping data to a high-dimensional feature space so that data points can be categorized, even when the data are not otherwise linearly separable (This gets done by kernel function of SVM classifier). A separator between the categories is found, then the data is transformed in such a way that the separator could be drawn as a hyperplane.\n"
   ]
  },
  {
   "cell_type": "markdown",
   "id": "683c7320",
   "metadata": {},
   "source": [
    "# 2. Necessary imports"
   ]
  },
  {
   "cell_type": "code",
   "execution_count": 1,
   "id": "f818cc93",
   "metadata": {},
   "outputs": [],
   "source": [
    "import pandas as pd\n",
    "import numpy as np \n",
    "import matplotlib.pyplot as plt\n"
   ]
  },
  {
   "cell_type": "markdown",
   "id": "5826a808",
   "metadata": {},
   "source": [
    "# Load Data From CSV File "
   ]
  },
  {
   "cell_type": "code",
   "execution_count": 2,
   "id": "f1279f55",
   "metadata": {
    "scrolled": false
   },
   "outputs": [
    {
     "data": {
      "text/plain": [
       "2    458\n",
       "4    241\n",
       "Name: Class, dtype: int64"
      ]
     },
     "execution_count": 2,
     "metadata": {},
     "output_type": "execute_result"
    }
   ],
   "source": [
    "df=pd.read_csv('cell_samples.csv')\n",
    "df.tail()\n",
    "df.shape\n",
    "df.size\n",
    "df.count()\n",
    "df['Class'].value_counts()"
   ]
  },
  {
   "cell_type": "markdown",
   "id": "fe652feb",
   "metadata": {},
   "source": [
    "# Distribution of the classes\n"
   ]
  },
  {
   "cell_type": "code",
   "execution_count": 3,
   "id": "c2a84745",
   "metadata": {},
   "outputs": [
    {
     "data": {
      "text/plain": [
       "<AxesSubplot:xlabel='Clump', ylabel='UnifSize'>"
      ]
     },
     "execution_count": 3,
     "metadata": {},
     "output_type": "execute_result"
    },
    {
     "data": {
      "image/png": "[encoded data removed]",
      "text/plain": [
       "<Figure size 432x288 with 1 Axes>"
      ]
     },
     "metadata": {
      "needs_background": "light"
     },
     "output_type": "display_data"
    }
   ],
   "source": [
    "benign_df=df[df['Class']==2][0:200]\n",
    "malignant_df=df[df['Class']==4][0:200]\n",
    "\n",
    "axes=benign_df.plot(kind='scatter',x='Clump' , y='UnifSize' , color='blue',label='Beningn')\n",
    "malignant_df.plot(kind='scatter',x='Clump' , y='UnifSize' , color='red',label='malignant_df',ax=axes)\n",
    "#help(benign_df.plot())\n",
    "\n"
   ]
  },
  {
   "cell_type": "markdown",
   "id": "5dceae1d",
   "metadata": {},
   "source": [
    "# Selection of unwanted columns\n",
    "\n"
   ]
  },
  {
   "cell_type": "code",
   "execution_count": 4,
   "id": "6ce4922c",
   "metadata": {
    "scrolled": false
   },
   "outputs": [
    {
     "data": {
      "text/plain": [
       "ID             int64\n",
       "Clump          int64\n",
       "UnifSize       int64\n",
       "UnifShape      int64\n",
       "MargAdh        int64\n",
       "SingEpiSize    int64\n",
       "BareNuc        int32\n",
       "BlandChrom     int64\n",
       "NormNucl       int64\n",
       "Mit            int64\n",
       "Class          int64\n",
       "dtype: object"
      ]
     },
     "execution_count": 4,
     "metadata": {},
     "output_type": "execute_result"
    }
   ],
   "source": [
    "df.dtypes\n",
    "\n",
    "df=df[pd.to_numeric(df['BareNuc'],errors='coerce').notnull()]\n",
    "df['BareNuc']=df['BareNuc'].astype('int')\n",
    "df.dtypes"
   ]
  },
  {
   "cell_type": "markdown",
   "id": "9010fb3d",
   "metadata": {},
   "source": [
    "# Remove unwanted columns\n"
   ]
  },
  {
   "cell_type": "code",
   "execution_count": 5,
   "id": "bc46dc0f",
   "metadata": {},
   "outputs": [
    {
     "data": {
      "text/plain": [
       "array([2, 2, 2, 2, 2], dtype=int64)"
      ]
     },
     "execution_count": 5,
     "metadata": {},
     "output_type": "execute_result"
    }
   ],
   "source": [
    "df.columns\n",
    "['Clump', 'UnifSize', 'UnifShape', 'MargAdh', 'SingEpiSize',\n",
    "       'BareNuc', 'BlandChrom', 'NormNucl', 'Mit']\n",
    "\n",
    "feature_set=df[['Clump', 'UnifSize', 'UnifShape', 'MargAdh', 'SingEpiSize',\n",
    "       'BareNuc', 'BlandChrom', 'NormNucl', 'Mit']]\n",
    "\n",
    "#df 100 rows and 11 coloumns\n",
    "#picked 9 colomns out of 11\n",
    "\n",
    "#Independent varibles\n",
    "X=np.asarray(feature_set)\n",
    "\n",
    "#dependent varible y\n",
    "y=np.asarray(df['Class'])\n",
    "\n",
    "X[0:5]\n",
    "\n",
    "y[0:5]"
   ]
  },
  {
   "cell_type": "markdown",
   "id": "8bd13e44",
   "metadata": {},
   "source": [
    "# Divide the data as Train/Test dataset\n"
   ]
  },
  {
   "cell_type": "code",
   "execution_count": 7,
   "id": "f1e2f4a3",
   "metadata": {},
   "outputs": [
    {
     "data": {
      "text/plain": [
       "(546,)"
      ]
     },
     "execution_count": 7,
     "metadata": {},
     "output_type": "execute_result"
    }
   ],
   "source": [
    "\n",
    "#df (100) ==>Train(80 rows)/test (20 rows) \n",
    "#Train(X,y) ## x itself is a 2D array.## y is 1D\n",
    "#Test(X,y)\n",
    "from sklearn.model_selection import train_test_split\n",
    "X_train,X_test,y_train,y_test=train_test_split(X,y,test_size=0.2,random_state=4)\n",
    "X_train.shape\n",
    "y_train.shape"
   ]
  },
  {
   "cell_type": "markdown",
   "id": "e81a2b71",
   "metadata": {},
   "source": [
    "# Modeling (SVM with Scikit-learn)\n"
   ]
  },
  {
   "cell_type": "code",
   "execution_count": 9,
   "id": "66e864b2",
   "metadata": {},
   "outputs": [
    {
     "data": {
      "text/plain": [
       "array([2, 4, 2, 4, 2, 2, 2, 2, 4, 2, 2, 4, 4, 4, 4, 2, 2, 2, 2, 2, 4, 2,\n",
       "       4, 4, 4, 4, 2, 2, 4, 4, 4, 2, 4, 2, 2, 2, 4, 2, 2, 2, 2, 2, 2, 4,\n",
       "       4, 2, 2, 2, 2, 4, 2, 2, 2, 2, 2, 2, 4, 2, 2, 2, 2, 4, 4, 2, 4, 4,\n",
       "       4, 2, 2, 2, 4, 4, 2, 2, 2, 4, 2, 2, 4, 4, 2, 2, 2, 2, 4, 4, 2, 4,\n",
       "       2, 2, 4, 4, 2, 2, 2, 4, 2, 2, 2, 4, 2, 4, 2, 2, 4, 2, 4, 2, 2, 4,\n",
       "       2, 2, 4, 2, 2, 2, 2, 2, 4, 4, 4, 4, 4, 2, 2, 4, 2, 2, 4, 2, 4, 2,\n",
       "       2, 2, 2, 2, 4], dtype=int64)"
      ]
     },
     "execution_count": 9,
     "metadata": {},
     "output_type": "execute_result"
    }
   ],
   "source": [
    "from sklearn import svm\n",
    "classifier=svm.SVC(kernel='linear', gamma='auto', C=2)\n",
    "classifier.fit(X_train,y_train)\n",
    "\n",
    "y_predit=classifier.predict(X_test)\n",
    "y_predit\n"
   ]
  },
  {
   "cell_type": "markdown",
   "id": "fe990274",
   "metadata": {},
   "source": [
    "# Evaluation (Results)"
   ]
  },
  {
   "cell_type": "code",
   "execution_count": 10,
   "id": "510060b5",
   "metadata": {},
   "outputs": [
    {
     "name": "stdout",
     "output_type": "stream",
     "text": [
      "              precision    recall  f1-score   support\n",
      "\n",
      "           2       1.00      0.94      0.97        90\n",
      "           4       0.90      1.00      0.95        47\n",
      "\n",
      "    accuracy                           0.96       137\n",
      "   macro avg       0.95      0.97      0.96       137\n",
      "weighted avg       0.97      0.96      0.96       137\n",
      "\n"
     ]
    }
   ],
   "source": [
    "from sklearn.metrics import classification_report\n",
    "print(classification_report(y_test,y_predit))\n"
   ]
  },
  {
   "cell_type": "code",
   "execution_count": null,
   "id": "667911ec",
   "metadata": {},
   "outputs": [],
   "source": []
  },
  {
   "cell_type": "code",
   "execution_count": null,
   "id": "6ecaa18f",
   "metadata": {},
   "outputs": [],
   "source": []
  },
  {
   "cell_type": "code",
   "execution_count": null,
   "id": "926b82db",
   "metadata": {},
   "outputs": [],
   "source": []
  }
 ],
 "metadata": {
  "kernelspec": {
   "display_name": "Python 3 (ipykernel)",
   "language": "python",
   "name": "python3"
  },
  "language_info": {
   "codemirror_mode": {
    "name": "ipython",
    "version": 3
   },
   "file_extension": ".py",
   "mimetype": "text/x-python",
   "name": "python",
   "nbconvert_exporter": "python",
   "pygments_lexer": "ipython3",
   "version": "3.9.12"
  },
  "varInspector": {
   "cols": {
    "lenName": 16,
    "lenType": 16,
    "lenVar": 40
   },
   "kernels_config": {
    "python": {
     "delete_cmd_postfix": "",
     "delete_cmd_prefix": "del ",
     "library": "var_list.py",
     "varRefreshCmd": "print(var_dic_list())"
    },
    "r": {
     "delete_cmd_postfix": ") ",
     "delete_cmd_prefix": "rm(",
     "library": "var_list.r",
     "varRefreshCmd": "cat(var_dic_list()) "
    }
   },
   "types_to_exclude": [
    "module",
    "function",
    "builtin_function_or_method",
    "instance",
    "_Feature"
   ],
   "window_display": false
  }
 },
 "nbformat": 4,
 "nbformat_minor": 5
}
